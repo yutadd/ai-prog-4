{
 "cells": [
  {
   "cell_type": "markdown",
   "metadata": {},
   "source": [
    "# clipとは、対象学習を使った"
   ]
  },
  {
   "cell_type": "code",
   "execution_count": 1,
   "metadata": {},
   "outputs": [
    {
     "name": "stderr",
     "output_type": "stream",
     "text": [
      "c:\\Users\\spyk4\\.conda\\envs\\ai-prog-4-py38\\lib\\site-packages\\tqdm\\auto.py:21: TqdmWarning: IProgress not found. Please update jupyter and ipywidgets. See https://ipywidgets.readthedocs.io/en/stable/user_install.html\n",
      "  from .autonotebook import tqdm as notebook_tqdm\n"
     ]
    },
    {
     "data": {
      "text/plain": [
       "['RN50',\n",
       " 'RN101',\n",
       " 'RN50x4',\n",
       " 'RN50x16',\n",
       " 'RN50x64',\n",
       " 'ViT-B/32',\n",
       " 'ViT-B/16',\n",
       " 'ViT-L/14',\n",
       " 'ViT-L/14@336px']"
      ]
     },
     "execution_count": 1,
     "metadata": {},
     "output_type": "execute_result"
    }
   ],
   "source": [
    "# conda install --yes -c pytorch pytorch=1.7.1 torchvision cudatoolkit=11.0\n",
    "# pip install ftfy regex tqdm\n",
    "# pip install git+https://github.com/openai/CLIP.git\n",
    "import torch\n",
    "import clip\n",
    "from PIL import Image\n",
    "\n",
    "clip.available_models()\n",
    "# RN系はCNN,VITほど性能が出ないが速い\n",
    "# ViT系: Vision Transformer CNN"
   ]
  },
  {
   "cell_type": "code",
   "execution_count": 2,
   "metadata": {},
   "outputs": [
    {
     "name": "stderr",
     "output_type": "stream",
     "text": [
      "100%|███████████████████████████████████████| 244M/244M [00:24<00:00, 10.6MiB/s]\n"
     ]
    }
   ],
   "source": [
    "device = \"cuda\" if torch.cuda.is_available() else \"cpu\"\n",
    "model, preprocess = clip.load(\"RN50\", device=device)"
   ]
  },
  {
   "cell_type": "code",
   "execution_count": 55,
   "metadata": {},
   "outputs": [
    {
     "data": {
      "text/plain": [
       "torch.Size([2, 77])"
      ]
     },
     "execution_count": 55,
     "metadata": {},
     "output_type": "execute_result"
    }
   ],
   "source": [
    "# CLIP で推論する画像の読み込み、前処理\n",
    "image_path = r\"C:\\Users\\spyk4\\git\\ai-prog-4\\.datasets\\tanuki.webp\"\n",
    "image = preprocess(Image.open(image_path)).unsqueeze(0).to(device)\n",
    "\n",
    "# CLIP で推論するテキストの定義と前処理\n",
    "labels = [\"tanuki\",\"racoon\"]\n",
    "text = clip.tokenize(labels).to(device)\n",
    "text.shape"
   ]
  },
  {
   "cell_type": "code",
   "execution_count": 56,
   "metadata": {},
   "outputs": [
    {
     "name": "stdout",
     "output_type": "stream",
     "text": [
      "['tanuki', 'racoon']\n",
      "logits per image tensor([[26.7031, 25.8125]], device='cuda:0', dtype=torch.float16)\n",
      "logits per text tensor([[26.7031],\n",
      "        [25.8125]], device='cuda:0', dtype=torch.float16)\n",
      "\n",
      "\n",
      "tanuki: 70.898438%\n",
      "racoon: 29.101562%\n"
     ]
    }
   ],
   "source": [
    "# CLIP による推論と確信度化の処理\n",
    "with torch.no_grad():\n",
    "    # image_features = model.encode_image(image)\n",
    "    # text_features = model.encode_text(text)\n",
    "\n",
    "    logits_per_image, logits_per_text = model(image, text)\n",
    "    print(labels)\n",
    "    print(\"logits per image\", logits_per_image)\n",
    "    print(\"logits per text\", logits_per_text)\n",
    "    probs = logits_per_image.softmax(dim=-1).cpu().numpy()\n",
    "\n",
    "print(\"\\n\")\n",
    "# 各ラベルに対応する確信度を表示する\n",
    "for label, prob in zip(labels, probs[0]):\n",
    "    print(f\"{label}: {prob:2%}\")"
   ]
  },
  {
   "cell_type": "code",
   "execution_count": null,
   "metadata": {},
   "outputs": [],
   "source": []
  }
 ],
 "metadata": {
  "kernelspec": {
   "display_name": "ai-prog-4-py38",
   "language": "python",
   "name": "python3"
  },
  "language_info": {
   "codemirror_mode": {
    "name": "ipython",
    "version": 3
   },
   "file_extension": ".py",
   "mimetype": "text/x-python",
   "name": "python",
   "nbconvert_exporter": "python",
   "pygments_lexer": "ipython3",
   "version": "3.8.19"
  }
 },
 "nbformat": 4,
 "nbformat_minor": 2
}
