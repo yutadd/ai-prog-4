{
 "cells": [
  {
   "cell_type": "code",
   "execution_count": 57,
   "metadata": {},
   "outputs": [
    {
     "ename": "ModuleNotFoundError",
     "evalue": "No module named 'keras'",
     "output_type": "error",
     "traceback": [
      "\u001b[1;31m---------------------------------------------------------------------------\u001b[0m",
      "\u001b[1;31mModuleNotFoundError\u001b[0m                       Traceback (most recent call last)",
      "Cell \u001b[1;32mIn[57], line 3\u001b[0m\n\u001b[0;32m      1\u001b[0m \u001b[38;5;28;01mimport\u001b[39;00m \u001b[38;5;21;01mnumpy\u001b[39;00m \u001b[38;5;28;01mas\u001b[39;00m \u001b[38;5;21;01mnp\u001b[39;00m\n\u001b[0;32m      2\u001b[0m \u001b[38;5;28;01mimport\u001b[39;00m \u001b[38;5;21;01mmatplotlib\u001b[39;00m\u001b[38;5;21;01m.\u001b[39;00m\u001b[38;5;21;01mpyplot\u001b[39;00m \u001b[38;5;28;01mas\u001b[39;00m \u001b[38;5;21;01mplt\u001b[39;00m\n\u001b[1;32m----> 3\u001b[0m \u001b[38;5;28;01mfrom\u001b[39;00m \u001b[38;5;21;01mkeras\u001b[39;00m\u001b[38;5;21;01m.\u001b[39;00m\u001b[38;5;21;01mmodels\u001b[39;00m \u001b[38;5;28;01mimport\u001b[39;00m Sequential\n\u001b[0;32m      4\u001b[0m \u001b[38;5;28;01mfrom\u001b[39;00m \u001b[38;5;21;01mkeras\u001b[39;00m\u001b[38;5;21;01m.\u001b[39;00m\u001b[38;5;21;01mlayers\u001b[39;00m \u001b[38;5;28;01mimport\u001b[39;00m SimpleRNN, Dense\n\u001b[0;32m      6\u001b[0m \u001b[38;5;66;03m# sin波のデータ生成\u001b[39;00m\n",
      "\u001b[1;31mModuleNotFoundError\u001b[0m: No module named 'keras'"
     ]
    }
   ],
   "source": [
    "import numpy as np\n",
    "import matplotlib.pyplot as plt\n",
    "from keras.models import Sequential\n",
    "from keras.layers import SimpleRNN, Dense\n",
    "# sin波のデータ生成\n",
    "X_sin = np.linspace(0, 100, 1000).reshape(-1, 1)\n",
    "y_sin = np.sin(X_sin).ravel()\n",
    "# データの前処理\n",
    "X_sin = X_sin.reshape((X_sin.shape[0], 1, 1))\n",
    "# モデルの作成\n",
    "model = Sequential()\n",
    "model.add(SimpleRNN(50, input_shape=(1, 1)))\n",
    "model.add(Dense(1))\n",
    "model.compile(optimizer='adam', loss='mse')\n",
    "# モデルの学習\n",
    "model.fit(X_sin, y_sin, epochs=100, batch_size=32)\n",
    "# sin波の予測\n",
    "X_future = np.linspace(100, 130, 1000).reshape(-1, 1)\n",
    "X_future = X_future.reshape((X_future.shape[0], 1, 1))\n",
    "y_sin_pred = model.predict(X_future)\n",
    "# 結果のプロット\n",
    "plt.figure(figsize=(10, 6))\n",
    "plt.scatter(X_sin.flatten(), y_sin, color='blue', label='True Sin Values')\n",
    "plt.scatter(X_future.flatten(), y_sin_pred,\n",
    "            color='red', label='Predicted Sin Values')\n",
    "plt.legend()\n",
    "plt.xlabel('X')\n",
    "plt.ylabel('sin(X)')\n",
    "plt.title('Sin Wave Prediction using SimpleRNN')\n",
    "plt.show()"
   ]
  },
  {
   "cell_type": "code",
   "execution_count": null,
   "metadata": {},
   "outputs": [],
   "source": []
  }
 ],
 "metadata": {
  "kernelspec": {
   "display_name": "base",
   "language": "python",
   "name": "python3"
  },
  "language_info": {
   "codemirror_mode": {
    "name": "ipython",
    "version": 3
   },
   "file_extension": ".py",
   "mimetype": "text/x-python",
   "name": "python",
   "nbconvert_exporter": "python",
   "pygments_lexer": "ipython3",
   "version": "3.11.7"
  }
 },
 "nbformat": 4,
 "nbformat_minor": 2
}
